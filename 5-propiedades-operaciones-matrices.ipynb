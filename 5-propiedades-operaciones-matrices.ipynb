{
 "cells": [
  {
   "cell_type": "code",
   "execution_count": 1,
   "source": [
    "import numpy as np\r\n",
    "A = np.array([[2,3],[5,7],[11,13]])\r\n",
    "B = np.array([[1,3],[2,1]])\r\n",
    "C = np.array([[3,1],[4,2]])"
   ],
   "outputs": [],
   "metadata": {}
  },
  {
   "cell_type": "code",
   "execution_count": 4,
   "source": [
    "# propiedad asociativa\r\n",
    "\r\n",
    "A_BC = np.dot(A,np.dot(B,C))\r\n",
    "print(A_BC)\r\n",
    "AB_C = np.dot(np.dot(A,B),C)\r\n",
    "print(AB_C)\r\n",
    "print(A_BC == AB_C)"
   ],
   "outputs": [
    {
     "output_type": "stream",
     "name": "stdout",
     "text": [
      "[[ 60  26]\n",
      " [145  63]\n",
      " [295 129]]\n",
      "[[ 60  26]\n",
      " [145  63]\n",
      " [295 129]]\n",
      "[[ True  True]\n",
      " [ True  True]\n",
      " [ True  True]]\n"
     ]
    }
   ],
   "metadata": {}
  },
  {
   "cell_type": "code",
   "execution_count": 6,
   "source": [
    "#propiedad distributiva\r\n",
    "D = A.dot(B+C)\r\n",
    "print(D)\r\n",
    "E = A.dot(B) + A.dot(C)\r\n",
    "print(E)\r\n",
    "print(D==E)"
   ],
   "outputs": [
    {
     "output_type": "stream",
     "name": "stdout",
     "text": [
      "[[ 26  17]\n",
      " [ 62  41]\n",
      " [122  83]]\n",
      "[[ 26  17]\n",
      " [ 62  41]\n",
      " [122  83]]\n",
      "[[ True  True]\n",
      " [ True  True]\n",
      " [ True  True]]\n"
     ]
    }
   ],
   "metadata": {}
  },
  {
   "cell_type": "code",
   "execution_count": 7,
   "source": [
    "#propiedad conmutativa\r\n",
    "\r\n",
    "F = B.dot(C)\r\n",
    "print(F)\r\n",
    "G = C.dot(B)\r\n",
    "print(G)\r\n",
    "print(F==G)"
   ],
   "outputs": [
    {
     "output_type": "stream",
     "name": "stdout",
     "text": [
      "[[15  7]\n",
      " [10  4]]\n",
      "[[ 5 10]\n",
      " [ 8 14]]\n",
      "[[False False]\n",
      " [False False]]\n"
     ]
    }
   ],
   "metadata": {}
  },
  {
   "cell_type": "code",
   "execution_count": null,
   "source": [],
   "outputs": [],
   "metadata": {}
  }
 ],
 "metadata": {
  "orig_nbformat": 4,
  "language_info": {
   "name": "python",
   "version": "3.8.10",
   "mimetype": "text/x-python",
   "codemirror_mode": {
    "name": "ipython",
    "version": 3
   },
   "pygments_lexer": "ipython3",
   "nbconvert_exporter": "python",
   "file_extension": ".py"
  },
  "kernelspec": {
   "name": "python3",
   "display_name": "Python 3.8.10 64-bit ('.venv': venv)"
  },
  "interpreter": {
   "hash": "f0d566176a36bf5aa697e1dc44f8310761847b289edacda050d5d9415f2953ac"
  }
 },
 "nbformat": 4,
 "nbformat_minor": 2
}